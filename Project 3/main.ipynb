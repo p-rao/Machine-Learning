{
 "cells": [
  {
   "cell_type": "markdown",
   "metadata": {
    "colab_type": "text",
    "id": "u0D4EyWG4EsN"
   },
   "source": [
    "# **Project 3** : Implementing clustering analysis using 3 models"
   ]
  },
  {
   "cell_type": "code",
   "execution_count": 0,
   "metadata": {
    "colab": {},
    "colab_type": "code",
    "id": "AFC15_w9iz-t"
   },
   "outputs": [],
   "source": [
    "#Import libraries for all three parts of the experiment\n",
    "from sklearn.model_selection import train_test_split\n",
    "from sklearn import metrics\n",
    "import numpy as np\n",
    "%matplotlib inline\n",
    "import matplotlib\n",
    "import matplotlib.pyplot as plt\n",
    "from sklearn.svm import SVC\n",
    "from sklearn import mixture\n",
    "\n",
    "from keras.layers import MaxPool2D,Activation\n",
    "from keras import backend as K\n",
    "from sklearn.cluster import KMeans\n",
    "import seaborn as sns\n",
    "from keras import callbacks\n",
    "from keras.initializers import VarianceScaling\n",
    "from keras.engine.topology import Layer, InputSpec\n",
    "\n",
    "import keras\n",
    "from matplotlib import pyplot as plt\n",
    "import gzip\n",
    "import os\n",
    "from keras.models import Model\n",
    "from keras.optimizers import RMSprop\n",
    "from keras.layers import Input,Dense,Flatten,Dropout,merge,Reshape,Conv2D,MaxPooling2D,UpSampling2D,Conv2DTranspose\n",
    "from keras.layers.normalization import BatchNormalization\n",
    "from keras.models import Model,Sequential\n",
    "from keras.callbacks import ModelCheckpoint\n",
    "from keras.optimizers import Adadelta, RMSprop,SGD,Adam\n",
    "from keras import regularizers\n",
    "from keras.utils import to_categorical\n",
    "from sklearn.metrics import accuracy_score, normalized_mutual_info_score,confusion_matrix,classification_report"
   ]
  },
  {
   "cell_type": "markdown",
   "metadata": {
    "colab_type": "text",
    "id": "fFh_rvjE1qrb"
   },
   "source": [
    "Installing CoClust library for the purpose of accuracy calculation"
   ]
  },
  {
   "cell_type": "code",
   "execution_count": 95,
   "metadata": {
    "colab": {
     "base_uri": "https://localhost:8080/",
     "height": 104
    },
    "colab_type": "code",
    "id": "4AopoiOBx_By",
    "outputId": "56dc19f8-0ed8-4828-94ca-3ba8e8717f92"
   },
   "outputs": [
    {
     "name": "stdout",
     "output_type": "stream",
     "text": [
      "Requirement already satisfied: coclust in /usr/local/lib/python3.6/dist-packages (0.2.1)\n",
      "Requirement already satisfied: scipy in /usr/local/lib/python3.6/dist-packages (from coclust) (1.3.2)\n",
      "Requirement already satisfied: numpy in /usr/local/lib/python3.6/dist-packages (from coclust) (1.17.4)\n",
      "Requirement already satisfied: scikit-learn in /usr/local/lib/python3.6/dist-packages (from coclust) (0.21.3)\n",
      "Requirement already satisfied: joblib>=0.11 in /usr/local/lib/python3.6/dist-packages (from scikit-learn->coclust) (0.14.0)\n"
     ]
    }
   ],
   "source": [
    "!pip install coclust\n",
    "from coclust.evaluation.external import accuracy"
   ]
  },
  {
   "cell_type": "markdown",
   "metadata": {
    "colab_type": "text",
    "id": "n1offfcX1jjR"
   },
   "source": [
    "Using the LOAD_MNIST method provided "
   ]
  },
  {
   "cell_type": "code",
   "execution_count": 0,
   "metadata": {
    "colab": {},
    "colab_type": "code",
    "id": "ZMKdWNQ-VLaG"
   },
   "outputs": [],
   "source": [
    "def load_mnist(path, kind='train'):\n",
    "    \"\"\"Load MNIST data from `path`\"\"\"\n",
    "    labels_path = os.path.join(path,\n",
    "                               '%s-labels-idx1-ubyte.gz'\n",
    "                               % kind)\n",
    "    images_path = os.path.join(path,\n",
    "                               '%s-images-idx3-ubyte.gz'\n",
    "                               % kind)\n",
    "\n",
    "    with gzip.open(labels_path, 'rb') as lbpath:\n",
    "        labels = np.frombuffer(lbpath.read(), dtype=np.uint8,\n",
    "                               offset=8)\n",
    "\n",
    "    with gzip.open(images_path, 'rb') as imgpath:\n",
    "        images = np.frombuffer(imgpath.read(), dtype=np.uint8,\n",
    "                               offset=16).reshape(len(labels), 784)\n",
    "\n",
    "    return images, labels"
   ]
  },
  {
   "cell_type": "markdown",
   "metadata": {
    "colab_type": "text",
    "id": "qputBQto1ddy"
   },
   "source": [
    "Mount Data from Google Drive"
   ]
  },
  {
   "cell_type": "code",
   "execution_count": 97,
   "metadata": {
    "colab": {
     "base_uri": "https://localhost:8080/",
     "height": 35
    },
    "colab_type": "code",
    "id": "Ypxt_imtjL82",
    "outputId": "139a46bc-88d1-47a9-b633-330421cd963f"
   },
   "outputs": [
    {
     "name": "stdout",
     "output_type": "stream",
     "text": [
      "Drive already mounted at /content/drive; to attempt to forcibly remount, call drive.mount(\"/content/drive\", force_remount=True).\n"
     ]
    }
   ],
   "source": [
    "from google.colab import drive\n",
    "drive.mount('/content/drive')\n",
    "\n",
    "X_train, y_train = load_mnist('/content/drive/My Drive/Colab Notebooks/data/fashion', kind='train')\n",
    "X_data, y_data = load_mnist('/content/drive/My Drive/Colab Notebooks/data/fashion', kind='t10k')"
   ]
  },
  {
   "cell_type": "markdown",
   "metadata": {
    "colab_type": "text",
    "id": "9LX3Ia_m1Ip1"
   },
   "source": [
    "# Naive KMeans Implementation"
   ]
  },
  {
   "cell_type": "code",
   "execution_count": 98,
   "metadata": {
    "colab": {
     "base_uri": "https://localhost:8080/",
     "height": 35
    },
    "colab_type": "code",
    "id": "eYdtBGQS_W8M",
    "outputId": "92e1173b-ddc6-4dea-c5a3-a55bf153a923"
   },
   "outputs": [
    {
     "name": "stdout",
     "output_type": "stream",
     "text": [
      "SSE for clusters =  10 is 2233496.1077513914\n"
     ]
    }
   ],
   "source": [
    "x = np.concatenate((X_train,X_data))\n",
    "y = np.concatenate((y_train,y_data))\n",
    "x = x.reshape((x.shape[0], -1))\n",
    "x = np.divide(x, 255)\n",
    "\n",
    "n_clusters = len(np.unique(y))\n",
    "kmeans = KMeans(n_clusters=10, init='random', n_init=10, max_iter=100, tol=1e-04, random_state=0, algorithm = 'elkan')\n",
    "kmeans.fit(x)\n",
    "print('SSE for clusters = ', '10' ,'is', kmeans.inertia_)\n",
    "\n",
    "predictions = kmeans.predict(X_data)\n",
    "np_predictions = np.argmax(predictions)"
   ]
  },
  {
   "cell_type": "code",
   "execution_count": 100,
   "metadata": {
    "colab": {
     "base_uri": "https://localhost:8080/",
     "height": 297
    },
    "colab_type": "code",
    "id": "ELNKY0GA6yDL",
    "outputId": "ff54461f-811a-45b5-c60f-0c3190830f4b"
   },
   "outputs": [
    {
     "name": "stdout",
     "output_type": "stream",
     "text": [
      "0.5398571428571428\n",
      "[[4001  199  208   23   47  508 1977    3   34    0]\n",
      " [ 285 6298   30    2   55  148  182    0    0    0]\n",
      " [  98   12 2168   23 2178  473 2020    1   27    0]\n",
      " [1987 3636   20    5   66  487  787    0   11    1]\n",
      " [ 817  173 1096   15 3561  230 1077    0   31    0]\n",
      " [   3    1    0   13    0 4680   58 1672   12  561]\n",
      " [1224   61 1071   56 1404  729 2428    6   19    2]\n",
      " [   0    0    0    6    0  724    1 5929    0  340]\n",
      " [  24   24  346 2508   45  496  379  333 2837    8]\n",
      " [   8    3    2    7   11  235   69  777    5 5883]]\n"
     ]
    },
    {
     "name": "stderr",
     "output_type": "stream",
     "text": [
      "/usr/local/lib/python3.6/dist-packages/sklearn/utils/linear_assignment_.py:127: DeprecationWarning: The linear_assignment function is deprecated in 0.21 and will be removed from 0.23. Use scipy.optimize.linear_sum_assignment instead.\n",
      "  DeprecationWarning)\n",
      "/usr/local/lib/python3.6/dist-packages/sklearn/utils/linear_assignment_.py:127: DeprecationWarning: The linear_assignment function is deprecated in 0.21 and will be removed from 0.23. Use scipy.optimize.linear_sum_assignment instead.\n",
      "  DeprecationWarning)\n"
     ]
    }
   ],
   "source": [
    "from coclust.evaluation.external import accuracy\n",
    "from sklearn.utils.linear_assignment_ import linear_assignment\n",
    "print(accuracy(y, kmeans.labels_))\n",
    "\n",
    "cm = confusion_matrix(y,kmeans.labels_)\n",
    "\n",
    "def _make_cost_m(cm):\n",
    "    s = np.max(cm)\n",
    "    return (- cm + s)\n",
    "\n",
    "indexes = linear_assignment(_make_cost_m(cm))\n",
    "js = [e[1] for e in sorted(indexes, key=lambda x: x[0])]\n",
    "cm2 = cm[:, js]\n",
    "\n",
    "print(cm2)"
   ]
  },
  {
   "cell_type": "code",
   "execution_count": null,
   "metadata": {},
   "outputs": [],
   "source": [
    "# loss = []\n",
    "# for n in range(1,20):\n",
    "#     kmeans = KMeans(n_clusters=n, init='random', n_init=10, n_jobs=5)\n",
    "#     kmeans.fit(x)\n",
    "#     print('SSE is', kmeans.inertia_)\n",
    "#     loss.append(kmeans.inertia_)\n",
    "\n",
    "# plt.plot(range(1,20), loss, marker='x')\n",
    "# plt.ylabel('SSE')\n",
    "# plt.xlabel('Clusters')"
   ]
  },
  {
   "cell_type": "markdown",
   "metadata": {
    "colab_type": "text",
    "id": "vatUi9Q22Hv1"
   },
   "source": [
    "Split into Validation and Test for AutoEncoder"
   ]
  },
  {
   "cell_type": "code",
   "execution_count": 0,
   "metadata": {
    "colab": {},
    "colab_type": "code",
    "id": "ZMTDL1btjeVV"
   },
   "outputs": [],
   "source": [
    "X_validation, X_test, y_validation, y_test = train_test_split(X_data, y_data, test_size=0.50, shuffle=False)"
   ]
  },
  {
   "cell_type": "code",
   "execution_count": 7,
   "metadata": {
    "colab": {
     "base_uri": "https://localhost:8080/",
     "height": 107
    },
    "colab_type": "code",
    "id": "V7lVASF8jiym",
    "outputId": "68e2164f-f67d-449c-c080-e6896e3183a2"
   },
   "outputs": [
    {
     "name": "stdout",
     "output_type": "stream",
     "text": [
      "WARNING:tensorflow:From /usr/local/lib/python3.6/dist-packages/keras/backend/tensorflow_backend.py:66: The name tf.get_default_graph is deprecated. Please use tf.compat.v1.get_default_graph instead.\n",
      "\n",
      "WARNING:tensorflow:From /usr/local/lib/python3.6/dist-packages/keras/backend/tensorflow_backend.py:541: The name tf.placeholder is deprecated. Please use tf.compat.v1.placeholder instead.\n",
      "\n"
     ]
    }
   ],
   "source": [
    "batch_size = 64\n",
    "epochs = 200\n",
    "inChannel = 1\n",
    "x, y = 28, 28\n",
    "input_img = Input(shape = (x, y, inChannel))\n",
    "num_classes = 10 #given in the problem statement"
   ]
  },
  {
   "cell_type": "markdown",
   "metadata": {
    "colab_type": "text",
    "id": "YexxiY602OA_"
   },
   "source": [
    "Data Pre-Processing step"
   ]
  },
  {
   "cell_type": "code",
   "execution_count": 0,
   "metadata": {
    "colab": {},
    "colab_type": "code",
    "id": "3zCdsYGrjxVo"
   },
   "outputs": [],
   "source": [
    "X_train = X_train.reshape(-1, 28,28, 1)/255\n",
    "X_test = X_test.reshape(-1, 28,28, 1)/255\n",
    "X_validation = X_validation.reshape(-1, 28,28, 1)/255"
   ]
  },
  {
   "cell_type": "markdown",
   "metadata": {
    "colab_type": "text",
    "id": "O85j6WpA2ROP"
   },
   "source": [
    "# Convolutional AutoEncoder - Encoder and Decoder definitions\n",
    "\n"
   ]
  },
  {
   "cell_type": "code",
   "execution_count": 0,
   "metadata": {
    "colab": {},
    "colab_type": "code",
    "id": "YnhinpLrkGgK"
   },
   "outputs": [],
   "source": [
    "def encoder(input_image):\n",
    "    conv1 = Conv2D(32, (3, 3), activation='relu', padding='same')(input_image)\n",
    "    conv1 = BatchNormalization()(conv1)\n",
    "    conv1 = Conv2D(32, (3, 3), activation='relu', padding='same')(conv1)\n",
    "    conv1 = BatchNormalization()(conv1)\n",
    "    pool1 = MaxPooling2D(pool_size=(2, 2))(conv1)\n",
    "    conv2 = Conv2D(64, (3, 3), activation='relu', padding='same')(pool1)\n",
    "    conv2 = BatchNormalization()(conv2)\n",
    "    conv2 = Conv2D(64, (3, 3), activation='relu', padding='same')(conv2)\n",
    "    conv2 = BatchNormalization()(conv2)\n",
    "    pool2 = MaxPooling2D(pool_size=(2, 2))(conv2)\n",
    "    conv3 = Conv2D(128, (3, 3), activation='relu', padding='same')(pool2)\n",
    "    conv3 = BatchNormalization()(conv3)\n",
    "    conv3 = Conv2D(128, (3, 3), activation='relu', padding='same')(conv3)\n",
    "    conv3 = BatchNormalization()(conv3)\n",
    "    conv4 = Conv2D(7, (3, 3), activation='relu', padding='same')(conv3)\n",
    "    conv4 = BatchNormalization()(conv4)\n",
    "    conv4 = Conv2D(7, (3, 3), activation='relu', padding='same')(conv4)\n",
    "    conv4 = BatchNormalization()(conv4)\n",
    "    return conv4\n",
    "\n",
    "def decoder(conv4):\n",
    "    conv5 = Conv2D(128, (3, 3), activation='relu', padding='same')(conv4)\n",
    "    conv5 = BatchNormalization()(conv5)\n",
    "    conv5 = Conv2D(128, (3, 3), activation='relu', padding='same')(conv5)\n",
    "    conv5 = BatchNormalization()(conv5)\n",
    "    conv6 = Conv2D(64, (3, 3), activation='relu', padding='same')(conv5)\n",
    "    conv6 = BatchNormalization()(conv6)\n",
    "    conv6 = Conv2D(64, (3, 3), activation='relu', padding='same')(conv6)\n",
    "    conv6 = BatchNormalization()(conv6)\n",
    "    up1 = UpSampling2D((2,2))(conv6)\n",
    "    conv7 = Conv2D(32, (3, 3), activation='relu', padding='same')(up1)\n",
    "    conv7 = BatchNormalization()(conv7)\n",
    "    conv7 = Conv2D(32, (3, 3), activation='relu', padding='same')(conv7)\n",
    "    conv7 = BatchNormalization()(conv7)\n",
    "    up2 = UpSampling2D((2,2))(conv7)\n",
    "    decoded_image = Conv2D(1, (3, 3), activation='sigmoid', padding='same')(up2)\n",
    "    return decoded_image"
   ]
  },
  {
   "cell_type": "code",
   "execution_count": 0,
   "metadata": {
    "colab": {},
    "colab_type": "code",
    "id": "pJI-X0Z2kJRG"
   },
   "outputs": [],
   "source": [
    "autoencoder = Model(input_img, decoder(encoder(input_img)))\n",
    "autoencoder.compile(loss='mean_squared_error', optimizer = RMSprop())"
   ]
  },
  {
   "cell_type": "markdown",
   "metadata": {
    "colab_type": "text",
    "id": "SYrOurNB2waT"
   },
   "source": [
    "Fit the training and validation data "
   ]
  },
  {
   "cell_type": "code",
   "execution_count": 12,
   "metadata": {
    "colab": {
     "base_uri": "https://localhost:8080/",
     "height": 1000
    },
    "colab_type": "code",
    "id": "g2JklNjrkPeu",
    "outputId": "e601e448-9686-43bc-980a-140111e5319c"
   },
   "outputs": [
    {
     "name": "stdout",
     "output_type": "stream",
     "text": [
      "WARNING:tensorflow:From /usr/local/lib/python3.6/dist-packages/keras/backend/tensorflow_backend.py:1033: The name tf.assign_add is deprecated. Please use tf.compat.v1.assign_add instead.\n",
      "\n",
      "WARNING:tensorflow:From /usr/local/lib/python3.6/dist-packages/keras/backend/tensorflow_backend.py:1020: The name tf.assign is deprecated. Please use tf.compat.v1.assign instead.\n",
      "\n",
      "Train on 60000 samples, validate on 5000 samples\n",
      "Epoch 1/45\n",
      "60000/60000 [==============================] - 20s 330us/step - loss: 0.0182 - val_loss: 0.0148\n",
      "Epoch 2/45\n",
      "60000/60000 [==============================] - 16s 273us/step - loss: 0.0088 - val_loss: 0.0163\n",
      "Epoch 3/45\n",
      "60000/60000 [==============================] - 16s 273us/step - loss: 0.0072 - val_loss: 0.0082\n",
      "Epoch 4/45\n",
      "60000/60000 [==============================] - 16s 273us/step - loss: 0.0060 - val_loss: 0.0058\n",
      "Epoch 5/45\n",
      "60000/60000 [==============================] - 16s 271us/step - loss: 0.0053 - val_loss: 0.0049\n",
      "Epoch 6/45\n",
      "60000/60000 [==============================] - 16s 272us/step - loss: 0.0050 - val_loss: 0.0057\n",
      "Epoch 7/45\n",
      "60000/60000 [==============================] - 16s 270us/step - loss: 0.0045 - val_loss: 0.0070\n",
      "Epoch 8/45\n",
      "60000/60000 [==============================] - 16s 267us/step - loss: 0.0042 - val_loss: 0.0050\n",
      "Epoch 9/45\n",
      "60000/60000 [==============================] - 16s 267us/step - loss: 0.0039 - val_loss: 0.0041\n",
      "Epoch 10/45\n",
      "60000/60000 [==============================] - 16s 267us/step - loss: 0.0037 - val_loss: 0.0037\n",
      "Epoch 11/45\n",
      "60000/60000 [==============================] - 16s 275us/step - loss: 0.0035 - val_loss: 0.0033\n",
      "Epoch 12/45\n",
      "60000/60000 [==============================] - 16s 268us/step - loss: 0.0033 - val_loss: 0.0039\n",
      "Epoch 13/45\n",
      "60000/60000 [==============================] - 16s 269us/step - loss: 0.0032 - val_loss: 0.0031\n",
      "Epoch 14/45\n",
      "60000/60000 [==============================] - 16s 271us/step - loss: 0.0031 - val_loss: 0.0031\n",
      "Epoch 15/45\n",
      "60000/60000 [==============================] - 16s 271us/step - loss: 0.0029 - val_loss: 0.0032\n",
      "Epoch 16/45\n",
      "60000/60000 [==============================] - 16s 271us/step - loss: 0.0029 - val_loss: 0.0034\n",
      "Epoch 17/45\n",
      "60000/60000 [==============================] - 16s 269us/step - loss: 0.0028 - val_loss: 0.0027\n",
      "Epoch 18/45\n",
      "60000/60000 [==============================] - 16s 269us/step - loss: 0.0027 - val_loss: 0.0031\n",
      "Epoch 19/45\n",
      "60000/60000 [==============================] - 16s 272us/step - loss: 0.0026 - val_loss: 0.0044\n",
      "Epoch 20/45\n",
      "60000/60000 [==============================] - 16s 268us/step - loss: 0.0026 - val_loss: 0.0033\n",
      "Epoch 21/45\n",
      "60000/60000 [==============================] - 16s 273us/step - loss: 0.0025 - val_loss: 0.0026\n",
      "Epoch 22/45\n",
      "60000/60000 [==============================] - 16s 272us/step - loss: 0.0025 - val_loss: 0.0031\n",
      "Epoch 23/45\n",
      "60000/60000 [==============================] - 16s 269us/step - loss: 0.0024 - val_loss: 0.0026\n",
      "Epoch 24/45\n",
      "60000/60000 [==============================] - 16s 270us/step - loss: 0.0024 - val_loss: 0.0029\n",
      "Epoch 25/45\n",
      "60000/60000 [==============================] - 16s 272us/step - loss: 0.0023 - val_loss: 0.0023\n",
      "Epoch 26/45\n",
      "60000/60000 [==============================] - 16s 271us/step - loss: 0.0023 - val_loss: 0.0025\n",
      "Epoch 27/45\n",
      "60000/60000 [==============================] - 16s 267us/step - loss: 0.0022 - val_loss: 0.0025\n",
      "Epoch 28/45\n",
      "60000/60000 [==============================] - 16s 268us/step - loss: 0.0022 - val_loss: 0.0022\n",
      "Epoch 29/45\n",
      "60000/60000 [==============================] - 16s 267us/step - loss: 0.0022 - val_loss: 0.0021\n",
      "Epoch 30/45\n",
      "60000/60000 [==============================] - 16s 274us/step - loss: 0.0022 - val_loss: 0.0022\n",
      "Epoch 31/45\n",
      "60000/60000 [==============================] - 16s 268us/step - loss: 0.0021 - val_loss: 0.0021\n",
      "Epoch 32/45\n",
      "60000/60000 [==============================] - 16s 267us/step - loss: 0.0021 - val_loss: 0.0029\n",
      "Epoch 33/45\n",
      "60000/60000 [==============================] - 16s 267us/step - loss: 0.0021 - val_loss: 0.0029\n",
      "Epoch 34/45\n",
      "60000/60000 [==============================] - 16s 267us/step - loss: 0.0020 - val_loss: 0.0024\n",
      "Epoch 35/45\n",
      "60000/60000 [==============================] - 16s 266us/step - loss: 0.0020 - val_loss: 0.0024\n",
      "Epoch 36/45\n",
      "60000/60000 [==============================] - 16s 271us/step - loss: 0.0020 - val_loss: 0.0020\n",
      "Epoch 37/45\n",
      "60000/60000 [==============================] - 16s 266us/step - loss: 0.0020 - val_loss: 0.0020\n",
      "Epoch 38/45\n",
      "60000/60000 [==============================] - 16s 269us/step - loss: 0.0019 - val_loss: 0.0023\n",
      "Epoch 39/45\n",
      "60000/60000 [==============================] - 16s 268us/step - loss: 0.0019 - val_loss: 0.0018\n",
      "Epoch 40/45\n",
      "60000/60000 [==============================] - 16s 268us/step - loss: 0.0019 - val_loss: 0.0024\n",
      "Epoch 41/45\n",
      "60000/60000 [==============================] - 16s 268us/step - loss: 0.0019 - val_loss: 0.0026\n",
      "Epoch 42/45\n",
      "60000/60000 [==============================] - 16s 269us/step - loss: 0.0019 - val_loss: 0.0019\n",
      "Epoch 43/45\n",
      "60000/60000 [==============================] - 16s 266us/step - loss: 0.0018 - val_loss: 0.0020\n",
      "Epoch 44/45\n",
      "60000/60000 [==============================] - 16s 267us/step - loss: 0.0018 - val_loss: 0.0022\n",
      "Epoch 45/45\n",
      "60000/60000 [==============================] - 16s 266us/step - loss: 0.0018 - val_loss: 0.0021\n"
     ]
    }
   ],
   "source": [
    "autoencoder_train = autoencoder.fit(X_train,X_train, batch_size=batch_size,epochs=45,verbose=1,validation_data=(X_validation, X_validation))"
   ]
  },
  {
   "cell_type": "markdown",
   "metadata": {
    "colab_type": "text",
    "id": "e8uJ1T1C22yc"
   },
   "source": [
    "Plot the resulting Training and Validation losses versus Epochs"
   ]
  },
  {
   "cell_type": "code",
   "execution_count": 89,
   "metadata": {
    "colab": {
     "base_uri": "https://localhost:8080/",
     "height": 281
    },
    "colab_type": "code",
    "id": "GbBvG6sSkTV2",
    "outputId": "8e6c2486-b100-4b98-ab92-7995c0c8210b"
   },
   "outputs": [
    {
     "data": {
      "image/png": "[encoded data removed]",
      "text/plain": [
       "<Figure size 432x288 with 1 Axes>"
      ]
     },
     "metadata": {
      "tags": []
     },
     "output_type": "display_data"
    }
   ],
   "source": [
    "loss = autoencoder_train.history['loss']\n",
    "val_loss = autoencoder_train.history['val_loss']\n",
    "epochs = range(45)\n",
    "plt.figure()\n",
    "plt.plot(epochs, loss, 'b-', label='Training loss')\n",
    "plt.plot(epochs, val_loss, 'g', label='Validation loss')\n",
    "plt.title('Training loss and validation loss')\n",
    "plt.legend()\n",
    "plt.show()"
   ]
  },
  {
   "cell_type": "code",
   "execution_count": 0,
   "metadata": {
    "colab": {},
    "colab_type": "code",
    "id": "vCtJJ36L6Kyc"
   },
   "outputs": [],
   "source": [
    "autoencoder.save_weights('autoencoder.h5')\n",
    "weights = autoencoder.get_weights()\n",
    "encode = Model(input_img,encoder(input_img))"
   ]
  },
  {
   "cell_type": "code",
   "execution_count": 0,
   "metadata": {
    "colab": {},
    "colab_type": "code",
    "id": "UJdQ1Ujl_fU_"
   },
   "outputs": [],
   "source": [
    "for l1,l2 in zip(encode.layers[:19],autoencoder.layers[0:19]):\n",
    "    l1.set_weights(l2.get_weights())\n",
    "\n",
    "predicted_encode = encode.predict(X_test)"
   ]
  },
  {
   "cell_type": "markdown",
   "metadata": {
    "colab_type": "text",
    "id": "2zflUKlI4kie"
   },
   "source": [
    "# AutoEncoder + KMeans"
   ]
  },
  {
   "cell_type": "code",
   "execution_count": 0,
   "metadata": {
    "colab": {},
    "colab_type": "code",
    "id": "BiMUgFm5Ad8J"
   },
   "outputs": [],
   "source": [
    "kmeans_with_autoencoder = KMeans(n_clusters=10)\n",
    "predicted_encode = predicted_encode.reshape(-1,7*7*7)\n",
    "clustered_training_set = kmeans_with_autoencoder.fit_predict(predicted_encode)"
   ]
  },
  {
   "cell_type": "markdown",
   "metadata": {
    "colab_type": "text",
    "id": "_w4bo3_d3Duf"
   },
   "source": [
    "Obtaining the accuracy of the KMeans + AutoEncoder Model using CoClust"
   ]
  },
  {
   "cell_type": "code",
   "execution_count": 88,
   "metadata": {
    "colab": {
     "base_uri": "https://localhost:8080/",
     "height": 107
    },
    "colab_type": "code",
    "id": "kpYIXt4v0ET-",
    "outputId": "724275a0-d1b3-448d-c9b2-934bab181ec3"
   },
   "outputs": [
    {
     "name": "stdout",
     "output_type": "stream",
     "text": [
      "CoClust Accuracy: \n"
     ]
    },
    {
     "name": "stderr",
     "output_type": "stream",
     "text": [
      "/usr/local/lib/python3.6/dist-packages/sklearn/utils/linear_assignment_.py:127: DeprecationWarning: The linear_assignment function is deprecated in 0.21 and will be removed from 0.23. Use scipy.optimize.linear_sum_assignment instead.\n",
      "  DeprecationWarning)\n"
     ]
    },
    {
     "data": {
      "text/plain": [
       "0.5656"
      ]
     },
     "execution_count": 88,
     "metadata": {
      "tags": []
     },
     "output_type": "execute_result"
    }
   ],
   "source": [
    "print (\"CoClust Accuracy: \")\n",
    "accuracy(y_test, clustered_training_set)"
   ]
  },
  {
   "cell_type": "markdown",
   "metadata": {
    "colab_type": "text",
    "id": "4c_jkj3V3uOF"
   },
   "source": [
    "Plot the confusion matrix"
   ]
  },
  {
   "cell_type": "code",
   "execution_count": 87,
   "metadata": {
    "colab": {
     "base_uri": "https://localhost:8080/",
     "height": 245
    },
    "colab_type": "code",
    "id": "If7ZgmO-59xK",
    "outputId": "a59e4271-15f7-4cbc-80e9-b89b699b5fb4"
   },
   "outputs": [
    {
     "name": "stdout",
     "output_type": "stream",
     "text": [
      "[[284   0   6  51   5   0 137   0  10   0]\n",
      " [  0 429   2  54   7   0  26   0   1   0]\n",
      " [ 13   0 164   3 130   0 159   0  10   0]\n",
      " [  8  18   0 334  10   0 129   0   1   0]\n",
      " [  1   1 125  47 229   0  73   0   3   0]\n",
      " [  0   0   0   0   0 121  31 261   1 101]\n",
      " [ 62   0  87  48  89   0 206   0  26   0]\n",
      " [  0   0   0   0   0   1   0 408   1  90]\n",
      " [  0   0   8   5   5   0  93   6 356   1]\n",
      " [  0   0   2   0   1 211   0  11   1 297]]\n"
     ]
    },
    {
     "name": "stderr",
     "output_type": "stream",
     "text": [
      "/usr/local/lib/python3.6/dist-packages/sklearn/utils/linear_assignment_.py:127: DeprecationWarning: The linear_assignment function is deprecated in 0.21 and will be removed from 0.23. Use scipy.optimize.linear_sum_assignment instead.\n",
      "  DeprecationWarning)\n"
     ]
    }
   ],
   "source": [
    "cm = confusion_matrix(y_test,clustered_training_set)\n",
    "from sklearn.utils.linear_assignment_ import linear_assignment\n",
    "\n",
    "def _make_cost_m(cm):\n",
    "    s = np.max(cm)\n",
    "    return (- cm + s)\n",
    "\n",
    "indexes = linear_assignment(_make_cost_m(cm))\n",
    "js = [e[1] for e in sorted(indexes, key=lambda x: x[0])]\n",
    "cm2 = cm[:, js]\n",
    "\n",
    "print(cm2)"
   ]
  },
  {
   "cell_type": "markdown",
   "metadata": {
    "colab_type": "text",
    "id": "qbcYWCQF6HBt"
   },
   "source": [
    "# AutoEncoder + GMM"
   ]
  },
  {
   "cell_type": "code",
   "execution_count": 0,
   "metadata": {
    "colab": {},
    "colab_type": "code",
    "id": "FXmno26pKSwb"
   },
   "outputs": [],
   "source": [
    "gmm = mixture.GaussianMixture(n_components=10, init_params='kmeans', max_iter=300).fit(pred_encode)\n",
    "labels_gmm = gmm.predict(pred_encode)"
   ]
  },
  {
   "cell_type": "markdown",
   "metadata": {
    "colab_type": "text",
    "id": "Xe0p5Lg-34VB"
   },
   "source": [
    "Obtain the accuracy of the GMM + AutoEncoder Model using CoClust"
   ]
  },
  {
   "cell_type": "code",
   "execution_count": 84,
   "metadata": {
    "colab": {
     "base_uri": "https://localhost:8080/",
     "height": 89
    },
    "colab_type": "code",
    "id": "f92N9IpXKvAR",
    "outputId": "91db4e3c-d90f-404c-fbcf-3ade6835687b"
   },
   "outputs": [
    {
     "name": "stderr",
     "output_type": "stream",
     "text": [
      "/usr/local/lib/python3.6/dist-packages/sklearn/utils/linear_assignment_.py:127: DeprecationWarning: The linear_assignment function is deprecated in 0.21 and will be removed from 0.23. Use scipy.optimize.linear_sum_assignment instead.\n",
      "  DeprecationWarning)\n"
     ]
    },
    {
     "data": {
      "text/plain": [
       "0.5876"
      ]
     },
     "execution_count": 84,
     "metadata": {
      "tags": []
     },
     "output_type": "execute_result"
    }
   ],
   "source": [
    "accuracy(y_test,labels_gmm)"
   ]
  },
  {
   "cell_type": "markdown",
   "metadata": {
    "colab_type": "text",
    "id": "MsenQ5_y3_JO"
   },
   "source": [
    "Plot the confusion matrix"
   ]
  },
  {
   "cell_type": "code",
   "execution_count": 85,
   "metadata": {
    "colab": {
     "base_uri": "https://localhost:8080/",
     "height": 72
    },
    "colab_type": "code",
    "id": "W0DHPtN_2_1M",
    "outputId": "26db05f0-3651-468d-d4f1-5c6c557d7816"
   },
   "outputs": [
    {
     "name": "stderr",
     "output_type": "stream",
     "text": [
      "/usr/local/lib/python3.6/dist-packages/sklearn/utils/linear_assignment_.py:127: DeprecationWarning: The linear_assignment function is deprecated in 0.21 and will be removed from 0.23. Use scipy.optimize.linear_sum_assignment instead.\n",
      "  DeprecationWarning)\n"
     ]
    }
   ],
   "source": [
    "cm = confusion_matrix(y_test,labels_gmm)\n",
    "from sklearn.utils.linear_assignment_ import linear_assignment\n",
    "\n",
    "def _make_cost_m(cm):\n",
    "    s = np.max(cm)\n",
    "    return (- cm + s)\n",
    "\n",
    "indexes = linear_assignment(_make_cost_m(cm))\n",
    "js = [e[1] for e in sorted(indexes, key=lambda x: x[0])]\n",
    "cm2 = cm[:, js]"
   ]
  },
  {
   "cell_type": "code",
   "execution_count": 86,
   "metadata": {
    "colab": {
     "base_uri": "https://localhost:8080/",
     "height": 191
    },
    "colab_type": "code",
    "id": "qgIGdf2E4zI6",
    "outputId": "d2dbcc62-2613-4b85-a1e9-e3753f36c719"
   },
   "outputs": [
    {
     "name": "stdout",
     "output_type": "stream",
     "text": [
      "[[285   1   0  54   4   1 139   0   9   0]\n",
      " [  0 433   0  48   7   1  29   0   1   0]\n",
      " [ 25   0   0   6 273   0 162   0  13   0]\n",
      " [  3  80   0 274   7   0 135   0   1   0]\n",
      " [  2   1   0  63 331   0  78   0   4   0]\n",
      " [  0   0  27   0   0 368   6  87   1  26]\n",
      " [ 58   2   0  52 171   2 208   0  25   0]\n",
      " [  0   0   1   0   0  41   0 380   1  77]\n",
      " [  1   0   0   3  10  17  87   4 352   0]\n",
      " [  0   0 182   0   1  19   1  12   1 307]]\n"
     ]
    }
   ],
   "source": [
    "print(cm2)"
   ]
  }
 ],
 "metadata": {
  "accelerator": "GPU",
  "colab": {
   "collapsed_sections": [],
   "name": "main.ipynb",
   "provenance": []
  },
  "kernelspec": {
   "display_name": "Python 3",
   "language": "python",
   "name": "python3"
  },
  "language_info": {
   "codemirror_mode": {
    "name": "ipython",
    "version": 3
   },
   "file_extension": ".py",
   "mimetype": "text/x-python",
   "name": "python",
   "nbconvert_exporter": "python",
   "pygments_lexer": "ipython3",
   "version": "3.6.9"
  }
 },
 "nbformat": 4,
 "nbformat_minor": 1
}
