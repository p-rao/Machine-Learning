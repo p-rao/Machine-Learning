{
 "cells": [
  {
   "cell_type": "code",
   "execution_count": null,
   "metadata": {},
   "outputs": [],
   "source": [
    "import util_mnist_reader as mnist_reader\n",
    "from sklearn.model_selection import train_test_split\n",
    "\n",
    "X_train, y_train = mnist_reader.load_mnist('data\\\\fashion', kind='train')\n",
    "X_data, y_data = mnist_reader.load_mnist('data\\\\fashion', kind='t10k')\n",
    "X_validation, X_test, y_validation, y_test = train_test_split(X_data, y_data, test_size=0.50, shuffle=False)"
   ]
  },
  {
   "cell_type": "code",
   "execution_count": null,
   "metadata": {},
   "outputs": [],
   "source": [
    "# Project Part 1 comprises of performing k class classification\n",
    "# on the mnist fashion database by using a single hidden layer and\n",
    "# having both sigmoid and softmax activation functions from scratch\n",
    "import Project2_Part1 as single_layer_nn\n",
    "\n",
    "single_layer_nn.Single_Hidden_Layer(X_train, y_train, X_validation, y_validation, X_test, y_test)"
   ]
  },
  {
   "cell_type": "code",
   "execution_count": null,
   "metadata": {},
   "outputs": [],
   "source": [
    "# Project Part 2 comprises of performing k class classification\n",
    "# on the mnist fashion database by using a multi-layer neural network\n",
    "# comprising of relu and softmax activation functions as well as \n",
    "# dropout to improve the accuracy of the trained model\n",
    "import Project2_Part2 as multi_layer_nn\n",
    "\n",
    "multi_layer_nn.MLP_Neural_Network(X_train, y_train, X_validation, y_validation, X_test, y_test)"
   ]
  },
  {
   "cell_type": "code",
   "execution_count": null,
   "metadata": {},
   "outputs": [],
   "source": [
    "# Project Part 3 comprises of performing k class classification\n",
    "# on the mnist fashion database by using a convolutional neural\n",
    "# network which further improves the accuracy obtained in the earlier\n",
    "# part\n",
    "import Project2_Part3 as cnn\n",
    "\n",
    "cnn.CNN_Model(X_train, y_train, X_validation, y_validation, X_test, y_test)"
   ]
  }
 ],
 "metadata": {
  "kernelspec": {
   "display_name": "Python 3",
   "language": "python",
   "name": "python3"
  },
  "language_info": {
   "codemirror_mode": {
    "name": "ipython",
    "version": 3
   },
   "file_extension": ".py",
   "mimetype": "text/x-python",
   "name": "python",
   "nbconvert_exporter": "python",
   "pygments_lexer": "ipython3",
   "version": "3.5.6"
  }
 },
 "nbformat": 4,
 "nbformat_minor": 2
}
